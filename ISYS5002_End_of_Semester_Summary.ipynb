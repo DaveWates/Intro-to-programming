{
  "nbformat": 4,
  "nbformat_minor": 0,
  "metadata": {
    "colab": {
      "name": "ISYS5002 End of Semester Summary.ipynb",
      "provenance": [],
      "include_colab_link": true
    },
    "kernelspec": {
      "name": "python3",
      "display_name": "Python 3"
    },
    "language_info": {
      "name": "python"
    }
  },
  "cells": [
    {
      "cell_type": "markdown",
      "metadata": {
        "id": "view-in-github",
        "colab_type": "text"
      },
      "source": [
        "<a href=\"https://colab.research.google.com/github/DaveWates/Intro-to-programming/blob/main/ISYS5002_End_of_Semester_Summary.ipynb\" target=\"_parent\"><img src=\"https://colab.research.google.com/assets/colab-badge.svg\" alt=\"Open In Colab\"/></a>"
      ]
    },
    {
      "cell_type": "markdown",
      "metadata": {
        "id": "q9qcbBIJsddZ"
      },
      "source": [
        "# Computational Thinking\n",
        "\n",
        "Computational thinking is a collection of problem-solving techniques that entails describing problems and solutions in a way that a computer can understand.\n",
        "\n",
        "* Problem Formation (Abstraction)\n",
        "* Solution Expression (Automation)\n",
        "* Execution and Evaluation (Analysis)\n",
        "\n",
        "## Problem Solving Methodology\n",
        "\n",
        "1. State the problem clearly\n",
        "2. Describe the input and output\n",
        "3. Work a simple example by hand\n",
        "4. Develop and algorithm (and convert to Python)\n",
        "5. Test solution with a variety of data\n",
        "\n",
        "*Note: Steps 1-3 and half of Step 4, a computer is not needed!*\n",
        "\n",
        "\n",
        "## Two things\n",
        "\n",
        "1. Store Values\n",
        "2. Perform Operations\n",
        "\n",
        "## Six Operations\n",
        "\n",
        "* Input/Receive Information\n",
        "* Output Information\n",
        "* Perform Arithmetic\n",
        "* Assign a value to a variable\n",
        "* Compare to variables\n",
        "* Repeat a group of actions\n",
        "\n",
        "## Develop algorithm (half of step 4)\n",
        "\n",
        "Break a problems down into simple actions in term of the **six operations**\n",
        "\n",
        "* Actions carry out simple tasks\n",
        "* Express actions as one of six operations \n",
        "* A set of actions is called an algorithm\n",
        "* Algorithms expressed as Pseudocode\n",
        "* Coding is translating an algorithm to a program\n",
        "\n",
        "## Implement Algorithm (other half of step 4)\n",
        "\n",
        "How to implement\n",
        "\n",
        "* Implement actions/steps one at a time\n",
        "* Initially use temporary variables\n",
        "* Create placeholders for difficult actions\n",
        "* If can't implement a action, use psuedo code as comment\n"
      ]
    },
    {
      "cell_type": "code",
      "metadata": {
        "id": "DbeOG77hsb4o"
      },
      "source": [
        ""
      ],
      "execution_count": null,
      "outputs": []
    },
    {
      "cell_type": "markdown",
      "metadata": {
        "id": "8Kg0pRLgshQu"
      },
      "source": [
        "# Python\n",
        "\n",
        "\n",
        "Combining the building blocks of the Python language with computational thinking will allow you to solve programming problems in Python.\n",
        "\n",
        "This section shows you some basic concepts to start you off.  To learn a language, you need to program in it for a while. We have used Python 3, don't use Python 2!\n",
        "\n",
        "Python enforces types (strongly typed), dynamically, implicitly typed (guesses type), case sensitive and object-oriented (i.e. everything is an object).\n",
        "\n",
        "\n",
        "## Getting Help\n",
        "\n",
        "* *help(object)*\n",
        "* *dir(object)*\n",
        "* Internet search\n",
        "* YouTube Tutorials\n",
        "* Websites eg. W3Schools\n",
        "\n",
        "## Useful functions\n",
        "* *type(object)*\n",
        "* *print(object)*\n",
        "* *len(object)*\n",
        "\n",
        "## Data Values\n",
        "\n",
        "Similar to how a person is different from a dog, data values can be different.  We call this difference 'type'.  A data value can be:\n",
        "\n",
        "* whole number, eg. 342\n",
        "* real number, eg. 17.7\n",
        "* character, eg. a\n",
        "* a word or phrase, eg. 'Hello World'\n",
        "* logical value, eg. True or False\n"
      ]
    },
    {
      "cell_type": "code",
      "metadata": {
        "id": "U81mY9Iusjyc",
        "outputId": "2f25ef72-a346-4e52-da19-0ac8f7bdb712",
        "colab": {
          "base_uri": "https://localhost:8080/"
        }
      },
      "source": [
        "type(5)"
      ],
      "execution_count": 1,
      "outputs": [
        {
          "output_type": "execute_result",
          "data": {
            "text/plain": [
              "int"
            ]
          },
          "metadata": {},
          "execution_count": 1
        }
      ]
    },
    {
      "cell_type": "code",
      "metadata": {
        "id": "-_nhnuTdAq-B",
        "outputId": "8ff5cac1-a849-42a1-eb50-3a404d965d9b",
        "colab": {
          "base_uri": "https://localhost:8080/"
        }
      },
      "source": [
        "type(5.5)"
      ],
      "execution_count": 2,
      "outputs": [
        {
          "output_type": "execute_result",
          "data": {
            "text/plain": [
              "float"
            ]
          },
          "metadata": {},
          "execution_count": 2
        }
      ]
    },
    {
      "cell_type": "code",
      "metadata": {
        "id": "DFz0cg65_cTh",
        "outputId": "87fe663a-04ed-455f-a968-5ee183396366",
        "colab": {
          "base_uri": "https://localhost:8080/"
        }
      },
      "source": [
        "type('a')"
      ],
      "execution_count": 3,
      "outputs": [
        {
          "output_type": "execute_result",
          "data": {
            "text/plain": [
              "str"
            ]
          },
          "metadata": {},
          "execution_count": 3
        }
      ]
    },
    {
      "cell_type": "code",
      "metadata": {
        "id": "8EOufIrJAgSR",
        "outputId": "88ea7206-cf18-400b-b558-412b4352fa05",
        "colab": {
          "base_uri": "https://localhost:8080/"
        }
      },
      "source": [
        "type('Hello World')"
      ],
      "execution_count": 4,
      "outputs": [
        {
          "output_type": "execute_result",
          "data": {
            "text/plain": [
              "str"
            ]
          },
          "metadata": {},
          "execution_count": 4
        }
      ]
    },
    {
      "cell_type": "code",
      "metadata": {
        "id": "9d6jipjRAlbq",
        "outputId": "1aa31d56-dc18-4ad6-9fce-d6add2987f29",
        "colab": {
          "base_uri": "https://localhost:8080/"
        }
      },
      "source": [
        "type(True)"
      ],
      "execution_count": 5,
      "outputs": [
        {
          "output_type": "execute_result",
          "data": {
            "text/plain": [
              "bool"
            ]
          },
          "metadata": {},
          "execution_count": 5
        }
      ]
    },
    {
      "cell_type": "markdown",
      "metadata": {
        "id": "KN_1rAqvYWPL"
      },
      "source": [
        "We can also have group data values into:\n",
        "* tuples (can't change values in the tuple)\n",
        "* lists (can change the contents of the list)\n",
        "* dict (dictionary, has a lookup key, and corresponding 'value') \n",
        "\n",
        "Tuples use '()', Lists use '[]' and dictionaries use '{}' "
      ]
    },
    {
      "cell_type": "code",
      "metadata": {
        "id": "PkLZW7CZAvJz",
        "outputId": "8d923b71-c07b-42ae-8966-b1ac8d56d633",
        "colab": {
          "base_uri": "https://localhost:8080/"
        }
      },
      "source": [
        "type([1,2,3])"
      ],
      "execution_count": 6,
      "outputs": [
        {
          "output_type": "execute_result",
          "data": {
            "text/plain": [
              "list"
            ]
          },
          "metadata": {},
          "execution_count": 6
        }
      ]
    },
    {
      "cell_type": "code",
      "metadata": {
        "id": "ke-DX4JrAytw",
        "outputId": "97008364-e264-4c53-c3c3-fabf888b369d",
        "colab": {
          "base_uri": "https://localhost:8080/"
        }
      },
      "source": [
        "type((1,2,3))"
      ],
      "execution_count": 7,
      "outputs": [
        {
          "output_type": "execute_result",
          "data": {
            "text/plain": [
              "tuple"
            ]
          },
          "metadata": {},
          "execution_count": 7
        }
      ]
    },
    {
      "cell_type": "code",
      "metadata": {
        "id": "wbnv0h-5Y9pi",
        "outputId": "3a6239d4-a0d3-4315-d29b-1cb4612cf0cb",
        "colab": {
          "base_uri": "https://localhost:8080/"
        }
      },
      "source": [
        "type({'ID': 100, 'Name': 'Odin'})"
      ],
      "execution_count": 8,
      "outputs": [
        {
          "output_type": "execute_result",
          "data": {
            "text/plain": [
              "dict"
            ]
          },
          "metadata": {},
          "execution_count": 8
        }
      ]
    },
    {
      "cell_type": "markdown",
      "metadata": {
        "id": "5RH76NNtZZgd"
      },
      "source": [
        "List, tuples and dictionaries have a length.  Knowing the length is important as often we want to process or perform an action on each element of the list, tuple or dictionary. "
      ]
    },
    {
      "cell_type": "code",
      "metadata": {
        "id": "8LkWXQfdZtXy",
        "outputId": "0b9a2b17-9720-4a39-c252-afac239a6f1a",
        "colab": {
          "base_uri": "https://localhost:8080/"
        }
      },
      "source": [
        "len([1,2,3])"
      ],
      "execution_count": 9,
      "outputs": [
        {
          "output_type": "execute_result",
          "data": {
            "text/plain": [
              "3"
            ]
          },
          "metadata": {},
          "execution_count": 9
        }
      ]
    },
    {
      "cell_type": "code",
      "metadata": {
        "id": "1XKemUKzZyre",
        "outputId": "b98dc232-50d9-4844-bf39-fbad894d8d61",
        "colab": {
          "base_uri": "https://localhost:8080/"
        }
      },
      "source": [
        "len((1,2,3))"
      ],
      "execution_count": 10,
      "outputs": [
        {
          "output_type": "execute_result",
          "data": {
            "text/plain": [
              "3"
            ]
          },
          "metadata": {},
          "execution_count": 10
        }
      ]
    },
    {
      "cell_type": "code",
      "metadata": {
        "id": "TFYexPp5ZzAX",
        "outputId": "dd36be95-0edb-42f1-adf4-7ce71f10bedf",
        "colab": {
          "base_uri": "https://localhost:8080/"
        }
      },
      "source": [
        "len({'ID': 100, 'Name': 'Odin'})"
      ],
      "execution_count": 11,
      "outputs": [
        {
          "output_type": "execute_result",
          "data": {
            "text/plain": [
              "2"
            ]
          },
          "metadata": {},
          "execution_count": 11
        }
      ]
    },
    {
      "cell_type": "markdown",
      "metadata": {
        "id": "vnDROiL7sAPD"
      },
      "source": [
        "We can sometimes coerce one type into another, for example, an int to a float type."
      ]
    },
    {
      "cell_type": "code",
      "metadata": {
        "id": "klYvG_nxsTYI",
        "outputId": "cec0a049-3ce0-45ed-e8a7-75adba0cf7bc",
        "colab": {
          "base_uri": "https://localhost:8080/"
        }
      },
      "source": [
        "print(type(5))\n",
        "float(\"5\")"
      ],
      "execution_count": 12,
      "outputs": [
        {
          "output_type": "stream",
          "name": "stdout",
          "text": [
            "<class 'int'>\n"
          ]
        },
        {
          "output_type": "execute_result",
          "data": {
            "text/plain": [
              "5.0"
            ]
          },
          "metadata": {},
          "execution_count": 12
        }
      ]
    },
    {
      "cell_type": "markdown",
      "metadata": {
        "id": "Xs4YduS-sWlE"
      },
      "source": [
        "or a float into a int"
      ]
    },
    {
      "cell_type": "code",
      "metadata": {
        "id": "h9LEPFDNsZYB",
        "outputId": "b5537eb3-ffab-423c-eb8b-92b5d1789e35",
        "colab": {
          "base_uri": "https://localhost:8080/"
        }
      },
      "source": [
        "int(5.7)"
      ],
      "execution_count": 13,
      "outputs": [
        {
          "output_type": "execute_result",
          "data": {
            "text/plain": [
              "5"
            ]
          },
          "metadata": {},
          "execution_count": 13
        }
      ]
    },
    {
      "cell_type": "code",
      "metadata": {
        "id": "-rhtMtkYseQd",
        "outputId": "ff943d0f-e818-4190-df5c-13daa9e3ab8b",
        "colab": {
          "base_uri": "https://localhost:8080/"
        }
      },
      "source": [
        "# just for fun\n",
        "int(float(5))"
      ],
      "execution_count": 14,
      "outputs": [
        {
          "output_type": "execute_result",
          "data": {
            "text/plain": [
              "5"
            ]
          },
          "metadata": {},
          "execution_count": 14
        }
      ]
    },
    {
      "cell_type": "markdown",
      "metadata": {
        "id": "83Li3JRr_cdx"
      },
      "source": [
        "## Simple Calculator\n",
        "\n",
        "| Symbol    | Meaning/Operation |\n",
        "|-----------|-------------------|\n",
        "| +         | Addition          |\n",
        "| -         | Subtraciton       |\n",
        "| *         | Multiplication    |\n",
        "| /         | Divsion           |\n",
        "| //        | Integer Division (quotient)  |\n",
        "| %         | Moduls (reminder) |\n",
        "| **        | Power/Exponent    |\n",
        "| ()        | Group.            |\n",
        "\n",
        "Follows **BOMDAS**\n",
        "- Brackets,\n",
        " Of (raised to the power), \n",
        "Multiplacation, \n",
        " Division, \n",
        " Addition,\n",
        " Subtraction,"
      ]
    },
    {
      "cell_type": "code",
      "metadata": {
        "id": "MmOE5TuAAkYT",
        "outputId": "1c9e8a46-0c3d-43ec-82c9-74749b95e4ec",
        "colab": {
          "base_uri": "https://localhost:8080/"
        }
      },
      "source": [
        "3 + 5"
      ],
      "execution_count": 15,
      "outputs": [
        {
          "output_type": "execute_result",
          "data": {
            "text/plain": [
              "8"
            ]
          },
          "metadata": {},
          "execution_count": 15
        }
      ]
    },
    {
      "cell_type": "code",
      "metadata": {
        "id": "eCw8iJMFA7ov",
        "outputId": "230c54ed-748b-4435-bc99-ef8901cd3e82",
        "colab": {
          "base_uri": "https://localhost:8080/"
        }
      },
      "source": [
        "3 + 5.5"
      ],
      "execution_count": 16,
      "outputs": [
        {
          "output_type": "execute_result",
          "data": {
            "text/plain": [
              "8.5"
            ]
          },
          "metadata": {},
          "execution_count": 16
        }
      ]
    },
    {
      "cell_type": "code",
      "metadata": {
        "id": "pwx92aZDA-Dn",
        "outputId": "1bccb36a-3ff3-4093-db4c-c40c4e266e09",
        "colab": {
          "base_uri": "https://localhost:8080/"
        }
      },
      "source": [
        "2 * 3 / (2 + 1)"
      ],
      "execution_count": 17,
      "outputs": [
        {
          "output_type": "execute_result",
          "data": {
            "text/plain": [
              "2.0"
            ]
          },
          "metadata": {},
          "execution_count": 17
        }
      ]
    },
    {
      "cell_type": "code",
      "metadata": {
        "id": "DmjOkUS0DgSz",
        "outputId": "42ca6a0a-3e58-4ca4-cb7a-ff51fa8ba038",
        "colab": {
          "base_uri": "https://localhost:8080/"
        }
      },
      "source": [
        "2**2"
      ],
      "execution_count": 18,
      "outputs": [
        {
          "output_type": "execute_result",
          "data": {
            "text/plain": [
              "4"
            ]
          },
          "metadata": {},
          "execution_count": 18
        }
      ]
    },
    {
      "cell_type": "code",
      "metadata": {
        "id": "tG_t9LqTD7md",
        "outputId": "ff4c880a-a97b-41d3-adb5-5f3b0df112bd",
        "colab": {
          "base_uri": "https://localhost:8080/"
        }
      },
      "source": [
        "4 / 3"
      ],
      "execution_count": 19,
      "outputs": [
        {
          "output_type": "execute_result",
          "data": {
            "text/plain": [
              "1.3333333333333333"
            ]
          },
          "metadata": {},
          "execution_count": 19
        }
      ]
    },
    {
      "cell_type": "code",
      "metadata": {
        "id": "ngVksSubD-Mz",
        "outputId": "cf96b97b-ba16-4fc8-8e4d-ee1704c1bc9a",
        "colab": {
          "base_uri": "https://localhost:8080/"
        }
      },
      "source": [
        "# Interger division (//), if there is a decimal factor (remainder) disregard it\n",
        "4 // 3 "
      ],
      "execution_count": 20,
      "outputs": [
        {
          "output_type": "execute_result",
          "data": {
            "text/plain": [
              "1"
            ]
          },
          "metadata": {},
          "execution_count": 20
        }
      ]
    },
    {
      "cell_type": "code",
      "metadata": {
        "id": "7clo_Kt-ECei",
        "outputId": "ef0959c9-bb3d-4321-b51e-d5635efbf97c",
        "colab": {
          "base_uri": "https://localhost:8080/"
        }
      },
      "source": [
        "# Modulus gives us what the remainder is, EG. 3 goes into 5 once with a remainder of 2.\n",
        "5 % 3"
      ],
      "execution_count": 23,
      "outputs": [
        {
          "output_type": "execute_result",
          "data": {
            "text/plain": [
              "2"
            ]
          },
          "metadata": {},
          "execution_count": 23
        }
      ]
    },
    {
      "cell_type": "markdown",
      "metadata": {
        "id": "toO4bhOgskaW"
      },
      "source": [
        "## Variables\n",
        "\n",
        "Variables are containers to store **data values**\n",
        "\n",
        "A variable is created when you first assign a value to it.\n",
        "\n",
        "The data type of variable is based on the contents.\n",
        "\n",
        "We can sometimes coerce one type into another, for example, an int to a float type."
      ]
    },
    {
      "cell_type": "code",
      "metadata": {
        "id": "olyFqMY2B52Q",
        "outputId": "7bc00e34-c86f-4df9-ed34-8d68c40d909e",
        "colab": {
          "base_uri": "https://localhost:8080/"
        }
      },
      "source": [
        "name = \"Odin\"\n",
        "print(name)\n",
        "print(type(name))\n",
        "type(name)"
      ],
      "execution_count": 24,
      "outputs": [
        {
          "output_type": "stream",
          "name": "stdout",
          "text": [
            "Odin\n",
            "<class 'str'>\n"
          ]
        },
        {
          "output_type": "execute_result",
          "data": {
            "text/plain": [
              "str"
            ]
          },
          "metadata": {},
          "execution_count": 24
        }
      ]
    },
    {
      "cell_type": "code",
      "metadata": {
        "id": "s772M9OuCHv2",
        "outputId": "ff649fe6-3637-45e3-be92-eba32fced01c",
        "colab": {
          "base_uri": "https://localhost:8080/"
        }
      },
      "source": [
        "x = 3\n",
        "y = 5\n",
        "# Variable which stores the result of an expression using 2 other variables\n",
        "# The '=' sign is the 'Assignment Operator\"\n",
        "#Left hand side = variable to store the result of what is happening on the RHS\n",
        "#Right hand side = evaluate what is happening through the expression\n",
        "slope = x / y\n",
        "\n",
        "print(slope)\n",
        "type(slope)"
      ],
      "execution_count": 26,
      "outputs": [
        {
          "output_type": "stream",
          "name": "stdout",
          "text": [
            "0.6\n"
          ]
        },
        {
          "output_type": "execute_result",
          "data": {
            "text/plain": [
              "float"
            ]
          },
          "metadata": {},
          "execution_count": 26
        }
      ]
    },
    {
      "cell_type": "code",
      "metadata": {
        "id": "TmEQEkdQFRLD",
        "outputId": "d9283fd7-27d5-4412-a265-8c1590b4de5d",
        "colab": {
          "base_uri": "https://localhost:8080/"
        }
      },
      "source": [
        "# Expressions have type which will depend on the calculation performed\n",
        "type(x / y)\n"
      ],
      "execution_count": 33,
      "outputs": [
        {
          "output_type": "execute_result",
          "data": {
            "text/plain": [
              "float"
            ]
          },
          "metadata": {},
          "execution_count": 33
        }
      ]
    },
    {
      "cell_type": "code",
      "metadata": {
        "id": "Hu4ERQZry4aS",
        "outputId": "506516b3-c010-4af7-aa84-cd0eb972fc43",
        "colab": {
          "base_uri": "https://localhost:8080/"
        }
      },
      "source": [
        "type(x + y)"
      ],
      "execution_count": 34,
      "outputs": [
        {
          "output_type": "execute_result",
          "data": {
            "text/plain": [
              "int"
            ]
          },
          "metadata": {},
          "execution_count": 34
        }
      ]
    },
    {
      "cell_type": "code",
      "metadata": {
        "id": "A9DqB3biGruA",
        "outputId": "ce4b2430-ab43-4c2e-a0b9-2e898ed8ac25",
        "colab": {
          "base_uri": "https://localhost:8080/"
        }
      },
      "source": [
        "big_string = '''\n",
        "    This is a multiple line comment/string\n",
        "    This is another line\n",
        "    This is the final line \n",
        "    '''\n",
        "print(big_string)"
      ],
      "execution_count": 37,
      "outputs": [
        {
          "output_type": "stream",
          "name": "stdout",
          "text": [
            "\n",
            "    This is a multiple line comment/string\n",
            "    This is another line\n",
            "    This is the final line \n",
            "    \n"
          ]
        }
      ]
    },
    {
      "cell_type": "markdown",
      "metadata": {
        "id": "iIBzo5u7aSWy"
      },
      "source": [
        "Variables can contain more complex data values, for example lists, tuples or dicts.\n",
        "\n",
        "We can access individual elements of a list or tuple by using a position index.  In Python we use zero-based index.  That is the 'first' element is index '0'."
      ]
    },
    {
      "cell_type": "code",
      "metadata": {
        "id": "6_0y7dyObYne",
        "outputId": "3cec7574-37ef-4789-f887-7791d0b26db4",
        "colab": {
          "base_uri": "https://localhost:8080/"
        }
      },
      "source": [
        "# Python is a '0' based index. It starts at 0 \n",
        "rainfall = [0,0,2.7,2.3, 5.7, 6.9, 5.5, 2.3, 1,0,0,0]\n",
        "\n",
        "print(len(rainfall))\n",
        "\n",
        "# Print the first element\n",
        "print(rainfall[0])\n",
        "\n",
        "# Print the third element\n",
        "print(rainfall[2])"
      ],
      "execution_count": 38,
      "outputs": [
        {
          "output_type": "stream",
          "name": "stdout",
          "text": [
            "12\n",
            "0\n",
            "2.7\n"
          ]
        }
      ]
    },
    {
      "cell_type": "markdown",
      "metadata": {
        "id": "7VnH0Nwwb4VZ"
      },
      "source": [
        "We can use the contents of a variable as the index"
      ]
    },
    {
      "cell_type": "code",
      "metadata": {
        "id": "d5Ehvrbkb-jx",
        "outputId": "fd6e899e-ba04-457d-e5c6-1bb7ce48e249",
        "colab": {
          "base_uri": "https://localhost:8080/"
        }
      },
      "source": [
        "month = 11\n",
        "print(rainfall[month])"
      ],
      "execution_count": 39,
      "outputs": [
        {
          "output_type": "stream",
          "name": "stdout",
          "text": [
            "0\n"
          ]
        }
      ]
    },
    {
      "cell_type": "markdown",
      "metadata": {
        "id": "VRtey1GocPXo"
      },
      "source": [
        "To access a element of a dict we use the key."
      ]
    },
    {
      "cell_type": "code",
      "metadata": {
        "id": "rOKqCQYXcQcA",
        "outputId": "ca585733-e9d9-46f1-e67d-137dec2e831a",
        "colab": {
          "base_uri": "https://localhost:8080/"
        }
      },
      "source": [
        "rainfall = {'Jan': 0,\n",
        "            'Feb': 0,\n",
        "            'Mar': 2,\n",
        "            'Apr': 2.3,\n",
        "            'May': 5.7,\n",
        "            'Jun': 6.9,\n",
        "            'Jul':5.5, \n",
        "            'Aug':2.3, \n",
        "            'Sep':1,\n",
        "            'Oct': 0,\n",
        "            'Nov':0,\n",
        "            'Dec': 0}\n",
        "print(rainfall['Mar'])"
      ],
      "execution_count": 40,
      "outputs": [
        {
          "output_type": "stream",
          "name": "stdout",
          "text": [
            "2\n"
          ]
        }
      ]
    },
    {
      "cell_type": "markdown",
      "metadata": {
        "id": "COgRuYZTFmd0"
      },
      "source": [
        "# Syntax\n",
        "\n",
        "* Python has no mandatory statement termination characters\n",
        "    (SQL uses the ';' to terminate the statement)\n",
        "* Whitespace is significant\n",
        "* Whitespace is 'space', 'tab', 'return' characters\n",
        "* Blocks are specified by indentation. \n",
        "* Indent to begin a block, dedent to end one\n",
        "* Statements that expect an indentation level end in a colon (:)\n",
        "* Comments start with the hash (#) sign and are single-line\n",
        "* Multi-line strings are used for multi-line comments.\n",
        "* Multi-line strings begin three quotes ' ' '\n",
        "* Multi-line strings end with three quotes ' ' ' \n",
        "\n",
        "\n",
        "## Comments"
      ]
    },
    {
      "cell_type": "code",
      "metadata": {
        "id": "CIkb74vgGaW6",
        "outputId": "d5217029-1a78-419f-c184-d60a6dcdacd8",
        "colab": {
          "base_uri": "https://localhost:8080/"
        }
      },
      "source": [
        "# This is a single line comment\n",
        "# Writing multiple single lines\n",
        "# comments are the 'true' way\n",
        "# to make multi-line comments\n",
        "\n",
        "# Anything after the '#' character is ignored\n",
        "# So comments can occur after the python statement\n",
        "age = 5 # The persons age (everything after the # is ignored)\n",
        "\n",
        "\n",
        "''' This is a multiple-line string\n",
        "    but because it is not assigned to a variable\n",
        "    Python will ignore unassigned strings\n",
        "    so we can treat this as a multiple line comment'''\n",
        "# NO '=' so Python will ignore the above mutli-line string\n",
        "big_string = ''' This is a multiple-line string\n",
        "    and because it is assigned, we can perform\n",
        "    an operation on the variable'''\n",
        "# Now it has been assigned to a variable so we can call the variable\n",
        "print(big_string)\n",
        "print(age)"
      ],
      "execution_count": 41,
      "outputs": [
        {
          "output_type": "stream",
          "name": "stdout",
          "text": [
            " This is a multiple-line string\n",
            "    and because it is assigned, we can perform\n",
            "    an operation on the variable\n",
            "5\n"
          ]
        }
      ]
    },
    {
      "cell_type": "markdown",
      "metadata": {
        "id": "wmhkJr_fH9dY"
      },
      "source": [
        "## Strings\n",
        "\n",
        "Strings can use single or double quotation marks.  \n",
        "\n",
        "Multiline strings are enclosed in triple-double (or single) quotes (' ' ')\n",
        "\n",
        "You can build up, concatenate strings using the '+' operator.\n",
        "\n",
        "Let us pretend we need to print the phrase 'hello world' by creating the phrase one word at a time."
      ]
    },
    {
      "cell_type": "code",
      "metadata": {
        "id": "nWt_nG2aG3j-",
        "outputId": "8f0f0e2f-a8ee-46cf-c818-0c65ce4cc03e",
        "colab": {
          "base_uri": "https://localhost:8080/"
        }
      },
      "source": [
        "first_word = \"hello\"\n",
        "second_word = \"world\"\n",
        "phrase = first_word + second_word\n",
        "print(phrase)"
      ],
      "execution_count": 42,
      "outputs": [
        {
          "output_type": "stream",
          "name": "stdout",
          "text": [
            "helloworld\n"
          ]
        }
      ]
    },
    {
      "cell_type": "code",
      "metadata": {
        "id": "AhWKr7_rHMdS",
        "outputId": "a38668b8-257a-40b0-8c7c-5d2646b90b1b",
        "colab": {
          "base_uri": "https://localhost:8080/"
        }
      },
      "source": [
        "# How can we add a space?\n",
        "\n",
        "first_word = \"hello\"\n",
        "second_word = \"world\"\n",
        "phrase = first_word + \" \" + second_word # Add a sapce when we create the 'phrase'\n",
        "print(phrase)\n"
      ],
      "execution_count": 43,
      "outputs": [
        {
          "output_type": "stream",
          "name": "stdout",
          "text": [
            "hello world\n"
          ]
        }
      ]
    },
    {
      "cell_type": "code",
      "metadata": {
        "id": "U6Rn635AHgGO",
        "outputId": "d6e3a00c-6744-4d36-c6ea-26e4f7d83d94",
        "colab": {
          "base_uri": "https://localhost:8080/"
        }
      },
      "source": [
        "# Another way to add a space?\n",
        "\n",
        "first_word = \"hello \"   # add a space after the first word\n",
        "second_word = \"world\"\n",
        "phrase = first_word + second_word\n",
        "print(phrase)"
      ],
      "execution_count": 44,
      "outputs": [
        {
          "output_type": "stream",
          "name": "stdout",
          "text": [
            "hello world\n"
          ]
        }
      ]
    },
    {
      "cell_type": "code",
      "metadata": {
        "id": "CK-OWdL-HskM",
        "outputId": "e78537c2-7992-497c-dabc-2b2ffb009636",
        "colab": {
          "base_uri": "https://localhost:8080/"
        }
      },
      "source": [
        "# And... Another wat to add a space\n",
        "\n",
        "first_word = \"hello\"\n",
        "second_word = \" world\"  # add a space to the begining of the word\n",
        "phrase = first_word + second_word\n",
        "print(phrase)"
      ],
      "execution_count": 45,
      "outputs": [
        {
          "output_type": "stream",
          "name": "stdout",
          "text": [
            "hello world\n"
          ]
        }
      ]
    },
    {
      "cell_type": "markdown",
      "metadata": {
        "id": "pPAGtLWFaMN6"
      },
      "source": [
        "The important part is not how to add a space, but to **recognise that we needed a space.**\n",
        "\n",
        "Strings are a sequence of characters.  So they have a length but can also be treated as a list, and we can print individual characters."
      ]
    },
    {
      "cell_type": "code",
      "metadata": {
        "id": "2d0xKqk5aAuc",
        "outputId": "3489ccb1-4a4a-4877-c0c9-ac70ecca8678",
        "colab": {
          "base_uri": "https://localhost:8080/"
        }
      },
      "source": [
        "first_word = \"hello\"\n",
        "second_word = \"world\"\n",
        "phrase = first_word + \" \" + second_word\n",
        "\n",
        "# print the length of the phrase\n",
        "print(len(phrase))\n",
        "\n",
        "print(phrase)\n",
        "\n",
        "# print the seventh character\n",
        "print(phrase[6])"
      ],
      "execution_count": 51,
      "outputs": [
        {
          "output_type": "stream",
          "name": "stdout",
          "text": [
            "11\n",
            "hello world\n",
            "w\n"
          ]
        }
      ]
    },
    {
      "cell_type": "markdown",
      "metadata": {
        "id": "_9zuvlvWggxY"
      },
      "source": [
        "We can do more than print a single character. We can slice up the string and get a substring.\n",
        "\n",
        "We use the pattern\n",
        "\n",
        "    the_string[begin : one_greater_than_end]\n",
        "\n",
        "If we leave out 'begin', then it starts from the beginning.\n",
        "\n",
        "If we leave out 'one_greater_than_end', then it goes to the end.\n"
      ]
    },
    {
      "cell_type": "code",
      "metadata": {
        "id": "HsP_hSdohNxL",
        "outputId": "858e1278-9541-4ef5-ebef-ed9d42f98464",
        "colab": {
          "base_uri": "https://localhost:8080/"
        }
      },
      "source": [
        "the_string = 'This is a example'\n",
        "print(the_string)\n",
        "\n",
        "# Now lets 'slice' the string, but leave out the slice-indexes\n",
        "print(the_string[:])"
      ],
      "execution_count": 52,
      "outputs": [
        {
          "output_type": "stream",
          "name": "stdout",
          "text": [
            "This is a example\n",
            "This is a example\n"
          ]
        }
      ]
    },
    {
      "cell_type": "markdown",
      "metadata": {
        "id": "brOzyx8Thhxy"
      },
      "source": [
        "Okay, that is a little strange.  Let us 'slice' out the word 'This'.\n",
        "\n",
        "So that starts at the beginning, and we want up to and including the fourth character.  So we want positions from 0 to 3, but in slicing, the 'end' has to be one greater; we want indexes 0 to 4"
      ]
    },
    {
      "cell_type": "code",
      "metadata": {
        "id": "El_2ka8FiCrK",
        "outputId": "fd106a14-ab24-4c12-c2b8-872d7191b15f",
        "colab": {
          "base_uri": "https://localhost:8080/"
        }
      },
      "source": [
        "the_string = 'This is a exmaple'\n",
        "print(the_string)\n",
        "\n",
        "# Print the first word\n",
        "# because the index starts from 0, you always count to where\n",
        "# the character should be then add 1.\n",
        "# O = index of first letter, 4 is the index of the character after the one we want.\n",
        "first_word = the_string[0:4]\n",
        "print(first_word)"
      ],
      "execution_count": 55,
      "outputs": [
        {
          "output_type": "stream",
          "name": "stdout",
          "text": [
            "This is a exmaple\n",
            "This\n"
          ]
        }
      ]
    },
    {
      "cell_type": "markdown",
      "metadata": {
        "id": "-5xdVO01iTEc"
      },
      "source": [
        "If the indexes are positive, we count from the beginning of the string to find the position.  If the numbers are negative, we count backwards from the end of the string to find the index position.\n",
        "\n",
        "Let us get the first word, 'This', by counting from the end of the string"
      ]
    },
    {
      "cell_type": "code",
      "metadata": {
        "id": "fJTITW5Wivnn",
        "outputId": "5dc59c09-715e-41eb-ba93-5b68d8a7d9fb",
        "colab": {
          "base_uri": "https://localhost:8080/"
        }
      },
      "source": [
        "the_string = 'This is a example'\n",
        "print(the_string)\n",
        "\n",
        "# print length of string\n",
        "print(len(the_string))\n",
        "\n",
        "# Print the first word\n",
        "# If we use negative it will start at the end of the string and count backwards\n",
        "first_word = the_string[-17:-13]\n",
        "print(first_word)"
      ],
      "execution_count": 53,
      "outputs": [
        {
          "output_type": "stream",
          "name": "stdout",
          "text": [
            "This is a exmaple\n",
            "17\n",
            "This\n"
          ]
        }
      ]
    },
    {
      "cell_type": "markdown",
      "metadata": {
        "id": "DiXkxwD-jNgh"
      },
      "source": [
        "We can also slice lists and tuples"
      ]
    },
    {
      "cell_type": "code",
      "metadata": {
        "id": "6TCkqiGCjJnH",
        "outputId": "808a8048-63db-485f-cf20-dcbbd75bc9e5",
        "colab": {
          "base_uri": "https://localhost:8080/"
        }
      },
      "source": [
        "numbers = [1,2,3,4,5,6,7]\n",
        "\n",
        "# print the first four elements of the list\n",
        "\n",
        "print(numbers[0:4])"
      ],
      "execution_count": 56,
      "outputs": [
        {
          "output_type": "stream",
          "name": "stdout",
          "text": [
            "[1, 2, 3, 4]\n"
          ]
        }
      ]
    },
    {
      "cell_type": "markdown",
      "metadata": {
        "id": "ula3gARLjgtn"
      },
      "source": [
        "We can do a fancy thing like slice a range and select only every second element.  The ** actual** pattern for slicing is:\n",
        "\n",
        "    the_list[start : end : step]"
      ]
    },
    {
      "cell_type": "code",
      "metadata": {
        "id": "yc2f5hookBhB",
        "outputId": "534bec06-4cbc-4544-a41b-01a441ce9f0c",
        "colab": {
          "base_uri": "https://localhost:8080/"
        }
      },
      "source": [
        "numbers = [1,2,3,4,5,6,7]\n",
        "\n",
        "# print the first four elements of the list\n",
        "print(numbers[0:5:2])\n",
        "\n",
        "# print every third element in the list\n",
        "print(numbers[::3])"
      ],
      "execution_count": 64,
      "outputs": [
        {
          "output_type": "stream",
          "name": "stdout",
          "text": [
            "[1, 3, 5]\n",
            "[1, 4, 7]\n"
          ]
        }
      ]
    },
    {
      "cell_type": "markdown",
      "metadata": {
        "id": "Q7n-WnTaKgLo"
      },
      "source": [
        "# Making decisions\n",
        "\n",
        "Python supports logical conditions.  A logical condition is where we consider the relationship between two things.  Is one thing less than the other?  The 'result' of a logical condition is either True or False.\n",
        "\n",
        "* Equals: a == b\n",
        "* Not Equals: a != b\n",
        "* Less than: a < b\n",
        "* Less than or equal to: a <= b \n",
        "* Greater than: a > b\n",
        "* Greater than or equal to: a >= b\n",
        "\n",
        "These conditions can be used in several ways, most commonly in \"if statements\" and loops.\n",
        "\n",
        "An \"if statement\" is written by using the if keyword.\n",
        "\n",
        "    if *logical condition* then\n",
        "      do something\n",
        "\n",
        "And if we want to do something false, then we \n",
        "\n",
        "    if NOT *logical condition* then\n",
        "      do something \n",
        "\n",
        "And if we want to do something that is it either true or false, then we:\n",
        "\n",
        "    if *logical condition* then\n",
        "      do something\n",
        "    else\n",
        "      do something else (this is the 'false' branch)\n",
        "\n",
        "And we can have lots of 'logical conditions'\n",
        "\n",
        "    if *logical condition* then\n",
        "      do something\n",
        "    elif *another logical condition* then\n",
        "      do something\n",
        "    elif *and another logical condition * then\n",
        "      do something\n",
        "    elif *and one more logical condition* then\n",
        "      do something\n",
        "    else\n",
        "      do something else (this is the 'false' branch)\n",
        "\n",
        "Whoa, which one do I use?  Why so many different ways? If you follow the first few steps of our development methodology, that is, understand the problem. When you write an algorithm and make a decision, you can express the decision as per your understanding."
      ]
    },
    {
      "cell_type": "code",
      "metadata": {
        "id": "SJ5yco_SkS0T"
      },
      "source": [
        "score = 48\n",
        "\n",
        "if score > 50:\n",
        "  print('pass')"
      ],
      "execution_count": 65,
      "outputs": []
    },
    {
      "cell_type": "code",
      "metadata": {
        "id": "1Tay_6vhlaJQ",
        "outputId": "f54dd4f4-34f9-4a27-cb2c-1ffeeb754232",
        "colab": {
          "base_uri": "https://localhost:8080/"
        }
      },
      "source": [
        "score = 48\n",
        "\n",
        "if score > 50:\n",
        "  print('pass')\n",
        "else:\n",
        "  print('fail')"
      ],
      "execution_count": 66,
      "outputs": [
        {
          "output_type": "stream",
          "name": "stdout",
          "text": [
            "fail\n"
          ]
        }
      ]
    },
    {
      "cell_type": "code",
      "metadata": {
        "id": "EljgMYV9ll1M",
        "outputId": "7b11ab0c-a577-499d-e4ad-1a765259be61",
        "colab": {
          "base_uri": "https://localhost:8080/"
        }
      },
      "source": [
        "score = 76.5\n",
        "\n",
        "if score > 50:\n",
        "  print('pass')\n",
        "if score > 65:\n",
        "  print('credit')\n",
        "if score > 75:\n",
        "  print('distinction') \n",
        "if score > 85:\n",
        "  print('high distinction')\n",
        "else:\n",
        "  print('fail')"
      ],
      "execution_count": 67,
      "outputs": [
        {
          "output_type": "stream",
          "name": "stdout",
          "text": [
            "pass\n",
            "credit\n",
            "distinction\n",
            "fail\n"
          ]
        }
      ]
    },
    {
      "cell_type": "markdown",
      "metadata": {
        "id": "PlP2qDLrl8Y7"
      },
      "source": [
        "Ummm.... what went wrong...  \n",
        "\n",
        "Well, each 'if' statement is executed, it doesn't matter if one of the earlier statements was true.  That is, each statement is 'independent'.\n",
        "\n",
        "If we use an 'elif', then the others are ignored once one logical condition is true."
      ]
    },
    {
      "cell_type": "code",
      "metadata": {
        "id": "UaAv1J1Ll7L5",
        "outputId": "fd827961-57e3-4fe1-cc21-517baf27754c",
        "colab": {
          "base_uri": "https://localhost:8080/"
        }
      },
      "source": [
        "score = 76.5\n",
        "\n",
        "if score > 50:\n",
        "  print('pass')\n",
        "elif score > 65:\n",
        "  print('credit')\n",
        "elif score > 75:\n",
        "  print('distinction')\n",
        "elif score > 85:\n",
        "  print('high distinction')\n",
        "else:\n",
        "  print('fail')"
      ],
      "execution_count": 68,
      "outputs": [
        {
          "output_type": "stream",
          "name": "stdout",
          "text": [
            "pass\n"
          ]
        }
      ]
    },
    {
      "cell_type": "markdown",
      "metadata": {
        "id": "AFUrYam2mJLL"
      },
      "source": [
        "Argh.... still not correct!\n",
        "\n",
        "We have a logical error. The score was greater than 50, and once one condition is true, the others are ignored.  So how do we fix the problem?  We need to write different logical-conditions. Here we flip the 'greater-than to a 'less-than.'\n",
        "\n",
        "    if score < 50:\n",
        "       print('fail')\n",
        "    elif score < 65:\n",
        "       print('pass')\n",
        "    etc.....\n",
        "\n",
        "We could specify a range in the logical condition.\n",
        "\n",
        "    if 50 < score < 65:\n",
        "       print('pass')\n",
        "    elif 65 < score < 75:\n",
        "       print('credit')\n",
        "    etc.....\n",
        "\n",
        "We could reorder the original. So we test from 'high distinction' down to a 'pass'.\n",
        "\n",
        "    if score > 85:\n",
        "       print('high distinction')\n",
        "    elif score > 75:\n",
        "       print('credit')\n",
        "    etc.....\n",
        "\n",
        "This reordering works because when using 'elif' once one logical condition is true, the others are ignored.\n",
        "\n",
        "Is one better than the other? Well no.  So use the one you prefer or more closely matches your understanding of the problem."
      ]
    },
    {
      "cell_type": "code",
      "metadata": {
        "id": "2Pw5sMf1pWVG",
        "outputId": "0f0289bb-7c16-4503-ef7b-0b9d15e10d4c",
        "colab": {
          "base_uri": "https://localhost:8080/"
        }
      },
      "source": [
        "score = 75\n",
        "\n",
        "if 50 <= score < 65:\n",
        "  print('pass')\n",
        "elif 65 <= score < 75:\n",
        "  print('credit')\n",
        "elif 75 <= score < 85:\n",
        "  print('distinction')\n",
        "elif 85 <= score < 100:\n",
        "  print('high distinction')\n",
        "else:\n",
        "  print('fail')"
      ],
      "execution_count": 72,
      "outputs": [
        {
          "output_type": "stream",
          "name": "stdout",
          "text": [
            "distinction\n"
          ]
        }
      ]
    },
    {
      "cell_type": "markdown",
      "metadata": {
        "id": "suu6Nlazpz4P"
      },
      "source": [
        "This final version is still not 'perfect.  What happens if the score is '75'?  Is that a credit or distinction?  Try the above cell with a value of 75 and see what happens.  How would you fix this?\n",
        "\n",
        "# Repeting Actions\n",
        "\n",
        "We need to repeat a series of actions, often processing items in a list, such as calculating the total list of values or finding the average of a list number."
      ]
    },
    {
      "cell_type": "code",
      "metadata": {
        "id": "reJy3ZWnrqtH",
        "outputId": "22e4a569-aed8-4376-c298-4fc74ac434a3",
        "colab": {
          "base_uri": "https://localhost:8080/"
        }
      },
      "source": [
        "# lets use range() function to genrate a list\n",
        "range(0,10)"
      ],
      "execution_count": 73,
      "outputs": [
        {
          "output_type": "execute_result",
          "data": {
            "text/plain": [
              "range(0, 10)"
            ]
          },
          "metadata": {},
          "execution_count": 73
        }
      ]
    },
    {
      "cell_type": "markdown",
      "metadata": {
        "id": "5osZGFour5Al"
      },
      "source": [
        "Umm... that not a list. Lets make that a list\n"
      ]
    },
    {
      "cell_type": "code",
      "metadata": {
        "id": "9hnoEv8lr37t",
        "outputId": "b9d82efe-7ff0-4b4f-b70a-2d2a3d0a3d02",
        "colab": {
          "base_uri": "https://localhost:8080/"
        }
      },
      "source": [
        "list(range(0,11))"
      ],
      "execution_count": 75,
      "outputs": [
        {
          "output_type": "execute_result",
          "data": {
            "text/plain": [
              "[0, 1, 2, 3, 4, 5, 6, 7, 8, 9, 10]"
            ]
          },
          "metadata": {},
          "execution_count": 75
        }
      ]
    },
    {
      "cell_type": "markdown",
      "metadata": {
        "id": "8J27z11js08I"
      },
      "source": [
        "Lets save the list to use for later"
      ]
    },
    {
      "cell_type": "code",
      "metadata": {
        "id": "Daw5cx5Es4fs",
        "outputId": "d19f59cd-b00a-4225-be11-0c1a7b9a7c4e",
        "colab": {
          "base_uri": "https://localhost:8080/"
        }
      },
      "source": [
        "numbers = list(range(0,10))\n",
        "print(numbers)"
      ],
      "execution_count": 76,
      "outputs": [
        {
          "output_type": "stream",
          "name": "stdout",
          "text": [
            "[0, 1, 2, 3, 4, 5, 6, 7, 8, 9]\n"
          ]
        }
      ]
    },
    {
      "cell_type": "code",
      "metadata": {
        "id": "nrXEcDtBjzLP",
        "outputId": "cfc2994e-d2a9-4f20-f8ba-5919bda379ce",
        "colab": {
          "base_uri": "https://localhost:8080/"
        }
      },
      "source": [
        "numbers[::4]\n",
        "# Starts with the first item, and then selects every 4th after that"
      ],
      "execution_count": 77,
      "outputs": [
        {
          "output_type": "execute_result",
          "data": {
            "text/plain": [
              "[0, 4, 8]"
            ]
          },
          "metadata": {},
          "execution_count": 77
        }
      ]
    },
    {
      "cell_type": "markdown",
      "metadata": {
        "id": "ljFvuRVstSHG"
      },
      "source": [
        "Let us calculate the sum of the list.  the steps are as follows:\n",
        "\n",
        "    1. Create a variable to store the total\n",
        "    2. Initialise total to zero\n",
        "    3. for each element in the list\n",
        "      3.1. add the element to the total\n",
        "    4. print the total "
      ]
    },
    {
      "cell_type": "code",
      "metadata": {
        "id": "no1PQZ5Ls9uA",
        "outputId": "cd438821-14ef-4b1b-9af7-6ba3f8f9fbed",
        "colab": {
          "base_uri": "https://localhost:8080/"
        }
      },
      "source": [
        "numbers = list(range(0,10))\n",
        "\n",
        "# 1. Create a variable to store the total\n",
        "# 2. Initialise the variable to zero\n",
        "total = 0\n",
        "\n",
        "# 3. for each element in the list\n",
        "#    3.1 add the element to the total\n",
        "for ele in numbers:\n",
        "  total = total + ele\n",
        "\n",
        "# 4. print the total \n",
        "print(total)"
      ],
      "execution_count": 78,
      "outputs": [
        {
          "output_type": "stream",
          "name": "stdout",
          "text": [
            "45\n"
          ]
        }
      ]
    },
    {
      "cell_type": "markdown",
      "metadata": {
        "id": "8h8rO5_Zuhcf"
      },
      "source": [
        "Notice that we worked out an algorithm, and then we used the algorithm as comments.  Probably a bit much for this simple example, but hopefully, you get the idea.\n",
        "\n",
        "Now calculating the total of a list is pretty standard, so Python has a *sum()* function to do that for us."
      ]
    },
    {
      "cell_type": "code",
      "metadata": {
        "id": "T18Nc4kOvBuO",
        "outputId": "fcf5f2f6-c630-4556-fa64-93d98b141200",
        "colab": {
          "base_uri": "https://localhost:8080/"
        }
      },
      "source": [
        "numbers = list(range(0,10))\n",
        "print(sum(numbers))"
      ],
      "execution_count": 79,
      "outputs": [
        {
          "output_type": "stream",
          "name": "stdout",
          "text": [
            "45\n"
          ]
        }
      ]
    },
    {
      "cell_type": "markdown",
      "metadata": {
        "id": "dvIVLyuYvKXo"
      },
      "source": [
        "Which should you use?  As a general rule in Python, if a function exists, then typically, this means someone has tested and debugged the code, so my advice is to use the function.\n",
        "\n",
        "How do you find out if the function exists?   Search on the internet!\n",
        "\n",
        "If you can't find anything, then you will have to write your own.\n",
        "\n",
        "\n",
        "# Functions\n",
        "\n",
        "We been using functions though out, print(), len(), type().  Functions are identified by the use of 'name()'.  Most functions take input (called arguments), for exmaple:\n",
        "\n",
        "    print(\"Hello World\")\n",
        "\n",
        "Here \"Hello World\" is the argument.\n",
        "\n",
        "We can declare functions.  Declaring or defining functions is a way to encapsulate a set of actions into a single statement call.  \n",
        "\n",
        "Following our development methodology, as you understand the problem and work through a few examples, your initial algorithm is often a set of high-level steps.   That is, you break the problem down into a set of more minor problems.   Typically you would work on one step at a time.  These 'steps' often become functions.\n",
        "\n",
        "Another common reason to create a function is that save you are repeating a sequence of code.  Rather than duplicate the code in many places in the program, create a function.  Then call the function where required in the program.\n",
        "\n",
        "Defining your function is 'extending' the language. You can use terminology from the original problem as the name of a Python function, which makes it easier to understand the code.\n",
        "\n",
        "Functions are declared with the def keyword. \n",
        "\n",
        "Optional arguments are set in the function declaration after the mandatory arguments by being assigned a default value. \n",
        "\n",
        "For named arguments, the name of the argument is assigned a value. \n",
        "\n",
        "Functions can return thing(s).  Typically a single value/thing/object, but they can return multiple values in a tuple.  You use tuple unpacking to access each value.\n",
        "\n",
        "Python doesn't have a function to calculate the average of a list. To calculate the average of a list, we need the sum of the values in the list, and then divide by the number of elements in the list.   Python has a sum() function, and we already used the len() function.  So let us define a  function to calculate the average.\n",
        "\n",
        "Let us follow our typical pattern.\n",
        "\n",
        "1. Get it working in a cell\n",
        "2. Wrap the important code in a function def\n",
        "3. Test the function"
      ]
    },
    {
      "cell_type": "code",
      "metadata": {
        "id": "WK0IUVIJpEV9",
        "outputId": "ae4fe69e-1839-48c8-880c-ca22d92232a2",
        "colab": {
          "base_uri": "https://localhost:8080/"
        }
      },
      "source": [
        "# Calculate average\n",
        "total = sum(numbers)\n",
        "num_elements = len(numbers)\n",
        "average = total / num_elements\n",
        "print(average)"
      ],
      "execution_count": 80,
      "outputs": [
        {
          "output_type": "stream",
          "name": "stdout",
          "text": [
            "4.5\n"
          ]
        }
      ]
    },
    {
      "cell_type": "markdown",
      "metadata": {
        "id": "EW0aN1laCHIU"
      },
      "source": [
        "wrap the cell in a funciton def"
      ]
    },
    {
      "cell_type": "code",
      "metadata": {
        "id": "LLNXraYg2b9Z"
      },
      "source": [
        "def average(numbers):\n",
        "  total = sum(numbers)\n",
        "  num_elements = len(numbers)\n",
        "  average = total / num_elements\n",
        "  return average"
      ],
      "execution_count": 81,
      "outputs": []
    },
    {
      "cell_type": "markdown",
      "metadata": {
        "id": "59JqKjIB2qDq"
      },
      "source": [
        "Lets use the new function."
      ]
    },
    {
      "cell_type": "code",
      "metadata": {
        "id": "0Soxk3kP2o74",
        "outputId": "5adec0b3-b3bc-46cf-c572-c13fe5154e1e",
        "colab": {
          "base_uri": "https://localhost:8080/"
        }
      },
      "source": [
        "# create a list\n",
        "nums = list(range(0,10))\n",
        "\n",
        "# store the reslt form the function call\n",
        "result = average(nums)\n",
        "\n",
        "# print the result\n",
        "print(result)"
      ],
      "execution_count": 89,
      "outputs": [
        {
          "output_type": "stream",
          "name": "stdout",
          "text": [
            "4.5\n"
          ]
        }
      ]
    },
    {
      "cell_type": "markdown",
      "metadata": {
        "id": "IRvkdKTb3QT_"
      },
      "source": [
        "# Exceptions\n",
        "\n",
        "Programs can crash.  The program typically crashes when something exceptional happens, perhaps out of memory, disk space, or invalid input.  In Python, we get an error message called a traceback. See the following example\n",
        "\n",
        "    ---------------------------------------------------------------------------\n",
        "    TypeError                                 Traceback (most recent call last)\n",
        "    <ipython-input-109-6def03b54820> in <module>()\n",
        "          1 words = ['One', 'Two', 'Three']\n",
        "    ----> 2 average(words)\n",
        "\n",
        "    <ipython-input-105-20f44f94ad68> in average(numbers)\n",
        "          1 def average(numbers):\n",
        "    ----> 2   average = sum(numbers)/len(numbers)\n",
        "          3   return average\n",
        "\n",
        "    TypeError: unsupported operand type(s) for +: 'int' and 'str'\n",
        "\n",
        "The traceback is designed to help the programmer and is not meant for the user of your program.  We should test our program and prevent any traceback from being displayed to the user.\n",
        "\n",
        "In the above example, this exception is \"TypeError\":\n",
        "\n",
        "    TypeError: unsupported operand type(s) for +: 'int' and 'str'\n",
        "\n",
        "To handle exceptions in Python, first, we 'try' the code, and if an exception occurs, we write a block of code that 'handle' the error.  This process is known as writing try-except blocks.\n",
        "\n",
        "Let us consider out *average()* function we defined above. \n",
        "\n",
        "What happens is we have a list with no numbers ['One', 'Two', 'Three']?\n"
      ]
    },
    {
      "cell_type": "code",
      "metadata": {
        "id": "Cij-jzuQ3tBE",
        "outputId": "9efe42e8-2569-46b6-ca86-c942e854b42d",
        "colab": {
          "base_uri": "https://localhost:8080/",
          "height": 300
        }
      },
      "source": [
        "words = ['One', 'Two', 'Three']\n",
        "average(words)"
      ],
      "execution_count": 88,
      "outputs": [
        {
          "output_type": "error",
          "ename": "TypeError",
          "evalue": "ignored",
          "traceback": [
            "\u001b[0;31m---------------------------------------------------------------------------\u001b[0m",
            "\u001b[0;31mTypeError\u001b[0m                                 Traceback (most recent call last)",
            "\u001b[0;32m<ipython-input-88-6def03b54820>\u001b[0m in \u001b[0;36m<module>\u001b[0;34m()\u001b[0m\n\u001b[1;32m      1\u001b[0m \u001b[0mwords\u001b[0m \u001b[0;34m=\u001b[0m \u001b[0;34m[\u001b[0m\u001b[0;34m'One'\u001b[0m\u001b[0;34m,\u001b[0m \u001b[0;34m'Two'\u001b[0m\u001b[0;34m,\u001b[0m \u001b[0;34m'Three'\u001b[0m\u001b[0;34m]\u001b[0m\u001b[0;34m\u001b[0m\u001b[0;34m\u001b[0m\u001b[0m\n\u001b[0;32m----> 2\u001b[0;31m \u001b[0maverage\u001b[0m\u001b[0;34m(\u001b[0m\u001b[0mwords\u001b[0m\u001b[0;34m)\u001b[0m\u001b[0;34m\u001b[0m\u001b[0;34m\u001b[0m\u001b[0m\n\u001b[0m",
            "\u001b[0;32m<ipython-input-81-2632cacc1fdf>\u001b[0m in \u001b[0;36maverage\u001b[0;34m(numbers)\u001b[0m\n\u001b[1;32m      1\u001b[0m \u001b[0;32mdef\u001b[0m \u001b[0maverage\u001b[0m\u001b[0;34m(\u001b[0m\u001b[0mnumbers\u001b[0m\u001b[0;34m)\u001b[0m\u001b[0;34m:\u001b[0m\u001b[0;34m\u001b[0m\u001b[0;34m\u001b[0m\u001b[0m\n\u001b[0;32m----> 2\u001b[0;31m   \u001b[0mtotal\u001b[0m \u001b[0;34m=\u001b[0m \u001b[0msum\u001b[0m\u001b[0;34m(\u001b[0m\u001b[0mnumbers\u001b[0m\u001b[0;34m)\u001b[0m\u001b[0;34m\u001b[0m\u001b[0;34m\u001b[0m\u001b[0m\n\u001b[0m\u001b[1;32m      3\u001b[0m   \u001b[0mnum_elements\u001b[0m \u001b[0;34m=\u001b[0m \u001b[0mlen\u001b[0m\u001b[0;34m(\u001b[0m\u001b[0mnumbers\u001b[0m\u001b[0;34m)\u001b[0m\u001b[0;34m\u001b[0m\u001b[0;34m\u001b[0m\u001b[0m\n\u001b[1;32m      4\u001b[0m   \u001b[0maverage\u001b[0m \u001b[0;34m=\u001b[0m \u001b[0mtotal\u001b[0m \u001b[0;34m/\u001b[0m \u001b[0mnum_elements\u001b[0m\u001b[0;34m\u001b[0m\u001b[0;34m\u001b[0m\u001b[0m\n\u001b[1;32m      5\u001b[0m   \u001b[0;32mreturn\u001b[0m \u001b[0maverage\u001b[0m\u001b[0;34m\u001b[0m\u001b[0;34m\u001b[0m\u001b[0m\n",
            "\u001b[0;31mTypeError\u001b[0m: unsupported operand type(s) for +: 'int' and 'str'"
          ]
        }
      ]
    },
    {
      "cell_type": "markdown",
      "metadata": {
        "id": "L3k53no25Zfp"
      },
      "source": [
        "We need to rewrite the average() function to handle the exception \"TypeError\""
      ]
    },
    {
      "cell_type": "code",
      "metadata": {
        "id": "DorOLgCM5vLE"
      },
      "source": [
        "def average(numbers):\n",
        "  try:\n",
        "    average = sum(numbers)/len(numbers)\n",
        "    return average\n",
        "  except TypeError:\n",
        "    print(\"Please check that your list contains only numerical values\")\n",
        "    return 0    "
      ],
      "execution_count": 90,
      "outputs": []
    },
    {
      "cell_type": "markdown",
      "metadata": {
        "id": "zNzJpq4G6hgB"
      },
      "source": [
        "Test the fix"
      ]
    },
    {
      "cell_type": "code",
      "metadata": {
        "id": "EXqP4TkA6gA5",
        "outputId": "b9c79e31-1493-4c3a-d034-c754dd0f5a11",
        "colab": {
          "base_uri": "https://localhost:8080/"
        }
      },
      "source": [
        "words = ['One', 'Two', 'Three']\n",
        "average(words)"
      ],
      "execution_count": 91,
      "outputs": [
        {
          "output_type": "stream",
          "name": "stdout",
          "text": [
            "Please check that your list contains only numerical values\n"
          ]
        },
        {
          "output_type": "execute_result",
          "data": {
            "text/plain": [
              "0"
            ]
          },
          "metadata": {},
          "execution_count": 91
        }
      ]
    },
    {
      "cell_type": "markdown",
      "metadata": {
        "id": "Q1BTH0b071DS"
      },
      "source": [
        "What about an empyt list?"
      ]
    },
    {
      "cell_type": "code",
      "metadata": {
        "id": "8P2bIEmg71a3",
        "outputId": "82aa9988-7df0-4d79-9543-00ad7a6d620a",
        "colab": {
          "base_uri": "https://localhost:8080/",
          "height": 300
        }
      },
      "source": [
        "empty_list = []\n",
        "average(empty_list)"
      ],
      "execution_count": 92,
      "outputs": [
        {
          "output_type": "error",
          "ename": "ZeroDivisionError",
          "evalue": "ignored",
          "traceback": [
            "\u001b[0;31m---------------------------------------------------------------------------\u001b[0m",
            "\u001b[0;31mZeroDivisionError\u001b[0m                         Traceback (most recent call last)",
            "\u001b[0;32m<ipython-input-92-8f752c43d2f9>\u001b[0m in \u001b[0;36m<module>\u001b[0;34m()\u001b[0m\n\u001b[1;32m      1\u001b[0m \u001b[0mempty_list\u001b[0m \u001b[0;34m=\u001b[0m \u001b[0;34m[\u001b[0m\u001b[0;34m]\u001b[0m\u001b[0;34m\u001b[0m\u001b[0;34m\u001b[0m\u001b[0m\n\u001b[0;32m----> 2\u001b[0;31m \u001b[0maverage\u001b[0m\u001b[0;34m(\u001b[0m\u001b[0mempty_list\u001b[0m\u001b[0;34m)\u001b[0m\u001b[0;34m\u001b[0m\u001b[0;34m\u001b[0m\u001b[0m\n\u001b[0m",
            "\u001b[0;32m<ipython-input-90-bbc4e508dd88>\u001b[0m in \u001b[0;36maverage\u001b[0;34m(numbers)\u001b[0m\n\u001b[1;32m      1\u001b[0m \u001b[0;32mdef\u001b[0m \u001b[0maverage\u001b[0m\u001b[0;34m(\u001b[0m\u001b[0mnumbers\u001b[0m\u001b[0;34m)\u001b[0m\u001b[0;34m:\u001b[0m\u001b[0;34m\u001b[0m\u001b[0;34m\u001b[0m\u001b[0m\n\u001b[1;32m      2\u001b[0m   \u001b[0;32mtry\u001b[0m\u001b[0;34m:\u001b[0m\u001b[0;34m\u001b[0m\u001b[0;34m\u001b[0m\u001b[0m\n\u001b[0;32m----> 3\u001b[0;31m     \u001b[0maverage\u001b[0m \u001b[0;34m=\u001b[0m \u001b[0msum\u001b[0m\u001b[0;34m(\u001b[0m\u001b[0mnumbers\u001b[0m\u001b[0;34m)\u001b[0m\u001b[0;34m/\u001b[0m\u001b[0mlen\u001b[0m\u001b[0;34m(\u001b[0m\u001b[0mnumbers\u001b[0m\u001b[0;34m)\u001b[0m\u001b[0;34m\u001b[0m\u001b[0;34m\u001b[0m\u001b[0m\n\u001b[0m\u001b[1;32m      4\u001b[0m     \u001b[0;32mreturn\u001b[0m \u001b[0maverage\u001b[0m\u001b[0;34m\u001b[0m\u001b[0;34m\u001b[0m\u001b[0m\n\u001b[1;32m      5\u001b[0m   \u001b[0;32mexcept\u001b[0m \u001b[0mTypeError\u001b[0m\u001b[0;34m:\u001b[0m\u001b[0;34m\u001b[0m\u001b[0;34m\u001b[0m\u001b[0m\n",
            "\u001b[0;31mZeroDivisionError\u001b[0m: division by zero"
          ]
        }
      ]
    },
    {
      "cell_type": "markdown",
      "metadata": {
        "id": "f04VAqAP654t"
      },
      "source": [
        "Umm... it still needs more work. We need to handle the ZeroDivisionError exception."
      ]
    },
    {
      "cell_type": "code",
      "metadata": {
        "id": "XNjNp0_16-DD"
      },
      "source": [
        "def average(numbers):\n",
        "  try:\n",
        "    average = sum(numbers)/len(numbers)\n",
        "    return average\n",
        "  except TypeError:\n",
        "    print(\"Please check that your list contains only numerical values\")\n",
        "    return 0\n",
        "  except ZeroDivisionError:  \n",
        "    print(\"Please make sure that your list is not empty\")\n",
        "    return 0"
      ],
      "execution_count": 93,
      "outputs": []
    },
    {
      "cell_type": "markdown",
      "metadata": {
        "id": "6t85IGFd7S2m"
      },
      "source": [
        "Let us test the fix"
      ]
    },
    {
      "cell_type": "code",
      "metadata": {
        "id": "PnFrmOD07PXZ",
        "outputId": "15d24c2a-a6dd-428c-a809-cd8e98145059",
        "colab": {
          "base_uri": "https://localhost:8080/"
        }
      },
      "source": [
        "empty_list = []\n",
        "average(empty_list)"
      ],
      "execution_count": 94,
      "outputs": [
        {
          "output_type": "stream",
          "name": "stdout",
          "text": [
            "Please make sure that your list is not empty\n"
          ]
        },
        {
          "output_type": "execute_result",
          "data": {
            "text/plain": [
              "0"
            ]
          },
          "metadata": {},
          "execution_count": 94
        }
      ]
    },
    {
      "cell_type": "markdown",
      "metadata": {
        "id": "ETHMnpMh7V8W"
      },
      "source": [
        "What about a list of real numbers?"
      ]
    },
    {
      "cell_type": "code",
      "metadata": {
        "id": "ztwI9xV27Yqa",
        "outputId": "9a041247-2c72-48b3-8c81-0f29214395b1",
        "colab": {
          "base_uri": "https://localhost:8080/"
        }
      },
      "source": [
        "reals = [1,1.1,1,1.1]\n",
        "print(average(reals))"
      ],
      "execution_count": 95,
      "outputs": [
        {
          "output_type": "stream",
          "name": "stdout",
          "text": [
            "1.05\n"
          ]
        }
      ]
    },
    {
      "cell_type": "markdown",
      "metadata": {
        "id": "ISWSu_268Kb8"
      },
      "source": [
        "# Importing \n",
        "\n",
        "Python has great community support.  Many programming problems have been solved, from image processing, reading and writing to files, creating plots etc.  When someone or a group write something useful they will bundle the functions up into a package for others to use.\n",
        "\n",
        "To use some packages, you have to install them first.  Once a package has been installed, you can import the package into your program and use the functions.\n",
        "\n",
        "\n"
      ]
    },
    {
      "cell_type": "code",
      "metadata": {
        "id": "jsQVCvoY-f5o",
        "outputId": "b12d4c8a-2b49-4fbe-9c93-06494abdc3e0",
        "colab": {
          "base_uri": "https://localhost:8080/"
        }
      },
      "source": [
        "import random\n",
        "\n",
        "randomint = random.randint(1,100)\n",
        "print(randomint)"
      ],
      "execution_count": 103,
      "outputs": [
        {
          "output_type": "stream",
          "name": "stdout",
          "text": [
            "3\n"
          ]
        }
      ]
    },
    {
      "cell_type": "code",
      "metadata": {
        "id": "-le1dCxqpoPg",
        "outputId": "4b9b1a82-0812-40c5-8395-71060b9954ba",
        "colab": {
          "base_uri": "https://localhost:8080/"
        }
      },
      "source": [
        "help(random.randint)"
      ],
      "execution_count": 104,
      "outputs": [
        {
          "output_type": "stream",
          "name": "stdout",
          "text": [
            "Help on method randint in module random:\n",
            "\n",
            "randint(a, b) method of random.Random instance\n",
            "    Return random integer in range [a, b], including both end points.\n",
            "\n"
          ]
        }
      ]
    },
    {
      "cell_type": "markdown",
      "metadata": {
        "id": "8RTjq0Vv_H-e"
      },
      "source": [
        "You can import a specific function form a package using the 'from' keyword"
      ]
    },
    {
      "cell_type": "code",
      "metadata": {
        "id": "vyLGxnNL_Niy",
        "outputId": "44887092-150f-4a9b-e8aa-9fbbc6cdd5ee",
        "colab": {
          "base_uri": "https://localhost:8080/"
        }
      },
      "source": [
        "from random import randint\n",
        "\n",
        "randomint = randint(20,25)\n",
        "print(randomint)"
      ],
      "execution_count": 105,
      "outputs": [
        {
          "output_type": "stream",
          "name": "stdout",
          "text": [
            "22\n"
          ]
        }
      ]
    },
    {
      "cell_type": "markdown",
      "metadata": {
        "id": "GbIMVktCAPET"
      },
      "source": [
        "# Input/Output\n",
        "\n",
        "Programs are:\n",
        "\n",
        "    Input --> Processing --> Output\n",
        "\n",
        "We already seen some simple output with the print() function. For simple input, we can use the input() function. "
      ]
    },
    {
      "cell_type": "code",
      "metadata": {
        "id": "BHkhh-t9An54",
        "outputId": "ac962761-2268-4390-de09-af495d3eeae3",
        "colab": {
          "base_uri": "https://localhost:8080/",
          "height": 54
        }
      },
      "source": [
        "input(\"What is your name? \")"
      ],
      "execution_count": 106,
      "outputs": [
        {
          "name": "stdout",
          "output_type": "stream",
          "text": [
            "What is your name? Odin\n"
          ]
        },
        {
          "output_type": "execute_result",
          "data": {
            "application/vnd.google.colaboratory.intrinsic+json": {
              "type": "string"
            },
            "text/plain": [
              "'Odin'"
            ]
          },
          "metadata": {},
          "execution_count": 106
        }
      ]
    },
    {
      "cell_type": "markdown",
      "metadata": {
        "id": "yMlft8eABGgH"
      },
      "source": [
        "We typically want to process the input, so we should store the input into a variable"
      ]
    },
    {
      "cell_type": "code",
      "metadata": {
        "id": "Z3kLqbrjBVK4",
        "outputId": "0dd84bfc-33c5-4b76-f95b-742b43156678",
        "colab": {
          "base_uri": "https://localhost:8080/"
        }
      },
      "source": [
        "# store the input into a variable called name\n",
        "name = input(\"What is your name? \")\n",
        "\n",
        "# simulate the processing step by using the input\n",
        "phrase = 'Your name is ' + name\n",
        "\n",
        "# Out put the result of our processing\n",
        "print(phrase)"
      ],
      "execution_count": 107,
      "outputs": [
        {
          "output_type": "stream",
          "name": "stdout",
          "text": [
            "What is your name? Odin\n",
            "Your name is Odin\n"
          ]
        }
      ]
    },
    {
      "cell_type": "markdown",
      "metadata": {
        "id": "VeTpOT_0Bkds"
      },
      "source": [
        "## File I/O\n",
        "\n",
        "For more persistance of data we can store our data in a file, and we can read data form a file.  The typicall pattern is, open the file, read/write from/to the file, and then close the file.\n",
        "\n",
        "Whe we open the file, we can specifiy if it is for reading, writing, or appending. When writing or appending, if the file doesn't exits it will create a empty file."
      ]
    },
    {
      "cell_type": "code",
      "metadata": {
        "id": "oZH8WtBtCAv1"
      },
      "source": [
        "my_file = open(\"mytext.txt\", \"w\")\n",
        "my_file.write(\"This is the first line\\n\") # notice the '\\n', this is the new line character\n",
        "my_file.write(\"This is a second line\\n\")\n",
        "my_file.close()\n"
      ],
      "execution_count": 108,
      "outputs": []
    },
    {
      "cell_type": "markdown",
      "metadata": {
        "id": "l1EpH_d3Dqlu"
      },
      "source": [
        "If you open the file 'mytext.txt' in a text editor it contents will be:\n",
        "\n",
        "    This is the first line\n",
        "    This is the second line\n",
        "\n",
        "We can check this in Python, by opening the file for reading and printing each line in the file.\n",
        "\n",
        "The common function to read from text files are:\n",
        "* read() - read the entire file\n",
        "* readline() - read one line of a file\n",
        "* readlines() - read entire files, return as a list of lines "
      ]
    },
    {
      "cell_type": "code",
      "metadata": {
        "id": "K6-U8c_MECxW",
        "outputId": "8325bbd6-5b37-443b-9aef-e9658dfe3df2",
        "colab": {
          "base_uri": "https://localhost:8080/"
        }
      },
      "source": [
        "my_file = open(\"mytext.txt\", \"r\")\n",
        "print(my_file.read())\n",
        "my_file.close()"
      ],
      "execution_count": 109,
      "outputs": [
        {
          "output_type": "stream",
          "name": "stdout",
          "text": [
            "This is the first line\n",
            "This is a second line\n",
            "\n"
          ]
        }
      ]
    },
    {
      "cell_type": "code",
      "metadata": {
        "id": "rhZRk2bcFpQM",
        "outputId": "759220e6-2303-490e-873e-8a2ce93128b9",
        "colab": {
          "base_uri": "https://localhost:8080/"
        }
      },
      "source": [
        "my_file = open(\"mytext.txt\", \"r\")\n",
        "print(my_file.readlines())\n",
        "my_file.close()"
      ],
      "execution_count": 110,
      "outputs": [
        {
          "output_type": "stream",
          "name": "stdout",
          "text": [
            "['This is the first line\\n', 'This is a second line\\n']\n"
          ]
        }
      ]
    },
    {
      "cell_type": "code",
      "metadata": {
        "id": "MXXXMLhJGCE4",
        "outputId": "54a29c6c-fbb5-4d20-b46b-986c015af30b",
        "colab": {
          "base_uri": "https://localhost:8080/"
        }
      },
      "source": [
        "my_file = open(\"mytext.txt\", \"r\")\n",
        "print(my_file.readline())\n",
        "my_file.close()"
      ],
      "execution_count": 111,
      "outputs": [
        {
          "output_type": "stream",
          "name": "stdout",
          "text": [
            "This is the first line\n",
            "\n"
          ]
        }
      ]
    },
    {
      "cell_type": "markdown",
      "metadata": {
        "id": "0lLc9kH8Icn-"
      },
      "source": [
        "To print each line, we can iterate over the list of lines"
      ]
    },
    {
      "cell_type": "code",
      "metadata": {
        "id": "zPjtZoKZIjTm",
        "outputId": "ef348de5-4f90-438f-8cbc-acdaf802a5d2",
        "colab": {
          "base_uri": "https://localhost:8080/"
        }
      },
      "source": [
        "my_file = open(\"mytext.txt\", \"r\")\n",
        "for line in my_file.readlines():\n",
        "  print(line)\n",
        "my_file.close()"
      ],
      "execution_count": 112,
      "outputs": [
        {
          "output_type": "stream",
          "name": "stdout",
          "text": [
            "This is the first line\n",
            "\n",
            "This is a second line\n",
            "\n"
          ]
        }
      ]
    },
    {
      "cell_type": "markdown",
      "metadata": {
        "id": "fnLmV0QZGzAQ"
      },
      "source": [
        "Closing the file is industry best practice, but can be easy to forget.  The pythonic' way is to use the *with* statement"
      ]
    },
    {
      "cell_type": "code",
      "metadata": {
        "id": "HuMPQGJkGvov",
        "outputId": "2736f083-e65d-4839-de25-94c4af8c0fdc",
        "colab": {
          "base_uri": "https://localhost:8080/"
        }
      },
      "source": [
        "with open(\"mytext.txt\") as my_file:\n",
        "  print(my_file.read())"
      ],
      "execution_count": 113,
      "outputs": [
        {
          "output_type": "stream",
          "name": "stdout",
          "text": [
            "This is the first line\n",
            "This is a second line\n",
            "\n"
          ]
        }
      ]
    },
    {
      "cell_type": "markdown",
      "metadata": {
        "id": "M2JCoR6IIJLZ"
      },
      "source": [
        "We can iterate of the file variable."
      ]
    },
    {
      "cell_type": "code",
      "metadata": {
        "id": "iYz8N_W9H3HT",
        "outputId": "e0361df9-d262-472c-acfa-96c43b5eee03",
        "colab": {
          "base_uri": "https://localhost:8080/"
        }
      },
      "source": [
        "with open(\"mytext.txt\") as my_file:\n",
        "  for line in my_file:\n",
        "    print(line)"
      ],
      "execution_count": 114,
      "outputs": [
        {
          "output_type": "stream",
          "name": "stdout",
          "text": [
            "This is the first line\n",
            "\n",
            "This is a second line\n",
            "\n"
          ]
        }
      ]
    },
    {
      "cell_type": "markdown",
      "metadata": {
        "id": "fvo_M_YREVlF"
      },
      "source": [
        "Oaky, I can write strings, what about other things?"
      ]
    },
    {
      "cell_type": "code",
      "metadata": {
        "id": "j45mQoc_BsaP",
        "outputId": "9d3ad62b-a041-4758-9f6c-f27a526a6b19",
        "colab": {
          "base_uri": "https://localhost:8080/",
          "height": 215
        }
      },
      "source": [
        "my_list = [\"This\", \"is\", 4, 13327]\n",
        "\n",
        "my_file = open(\"mylist.txt\", \"w\")\n",
        "my_file.write(my_list)\n",
        "my_file.close()\n"
      ],
      "execution_count": 115,
      "outputs": [
        {
          "output_type": "error",
          "ename": "TypeError",
          "evalue": "ignored",
          "traceback": [
            "\u001b[0;31m---------------------------------------------------------------------------\u001b[0m",
            "\u001b[0;31mTypeError\u001b[0m                                 Traceback (most recent call last)",
            "\u001b[0;32m<ipython-input-115-399b371b03a9>\u001b[0m in \u001b[0;36m<module>\u001b[0;34m()\u001b[0m\n\u001b[1;32m      2\u001b[0m \u001b[0;34m\u001b[0m\u001b[0m\n\u001b[1;32m      3\u001b[0m \u001b[0mmy_file\u001b[0m \u001b[0;34m=\u001b[0m \u001b[0mopen\u001b[0m\u001b[0;34m(\u001b[0m\u001b[0;34m\"mylist.txt\"\u001b[0m\u001b[0;34m,\u001b[0m \u001b[0;34m\"w\"\u001b[0m\u001b[0;34m)\u001b[0m\u001b[0;34m\u001b[0m\u001b[0;34m\u001b[0m\u001b[0m\n\u001b[0;32m----> 4\u001b[0;31m \u001b[0mmy_file\u001b[0m\u001b[0;34m.\u001b[0m\u001b[0mwrite\u001b[0m\u001b[0;34m(\u001b[0m\u001b[0mmy_list\u001b[0m\u001b[0;34m)\u001b[0m\u001b[0;34m\u001b[0m\u001b[0;34m\u001b[0m\u001b[0m\n\u001b[0m\u001b[1;32m      5\u001b[0m \u001b[0mmy_file\u001b[0m\u001b[0;34m.\u001b[0m\u001b[0mclose\u001b[0m\u001b[0;34m(\u001b[0m\u001b[0;34m)\u001b[0m\u001b[0;34m\u001b[0m\u001b[0;34m\u001b[0m\u001b[0m\n",
            "\u001b[0;31mTypeError\u001b[0m: write() argument must be str, not list"
          ]
        }
      ]
    },
    {
      "cell_type": "markdown",
      "metadata": {
        "id": "MVcT5uo3I7cH"
      },
      "source": [
        "There is a library called pickle, that alows us to write/read objects to/from files."
      ]
    },
    {
      "cell_type": "code",
      "metadata": {
        "id": "0ZYagyJ_JD54"
      },
      "source": [
        "import pickle\n",
        "\n",
        "my_list = [\"This\", \"is\", 4, 13327]\n",
        "\n",
        "# open the file to write bytes\n",
        "my_file = open(\"binary.dat\", \"wb\")\n",
        "\n",
        "# use pickle to write the object to the file\n",
        "pickle.dump(my_list, my_file)\n",
        "\n",
        "# close the file\n",
        "my_file.close()\n"
      ],
      "execution_count": 116,
      "outputs": []
    },
    {
      "cell_type": "markdown",
      "metadata": {
        "id": "o7ReePEIJhXV"
      },
      "source": [
        "We can't open 'binary.dat' in a text editor and make sense of it.\n",
        "\n",
        "Let us use pickle to read back the list. Lets also use the with statement"
      ]
    },
    {
      "cell_type": "code",
      "metadata": {
        "id": "8sjkfrpOJzjW",
        "outputId": "f5c0b3e3-c3bd-4bf6-8cab-3faf15d55d41",
        "colab": {
          "base_uri": "https://localhost:8080/"
        }
      },
      "source": [
        "with open(\"binary.dat\",\"rb\") as my_file:\n",
        "  the_list = pickle.load(my_file)\n",
        "\n",
        "print(the_list)"
      ],
      "execution_count": 118,
      "outputs": [
        {
          "output_type": "stream",
          "name": "stdout",
          "text": [
            "['This', 'is', 4, 13327]\n"
          ]
        }
      ]
    },
    {
      "cell_type": "markdown",
      "metadata": {
        "id": "iclrZFV1KziC"
      },
      "source": [
        "## Other Data Sources/Sinks\n",
        "\n",
        "* CSV files\n",
        "* SQL Databases\n",
        "* Excell Spreadsheets\n",
        "* Word Documents\n",
        "* PDF files\n",
        "* Webpages\n",
        "* Videos\n",
        "* Audio\n",
        "\n",
        "The pattern is almost all the same, open the file/database/webpage/stream, extract the data (usually into a pandas dataframe), process the data, the save the result to a file/database/webapge/stream.\n",
        "\n",
        "Let us get a CSV from a URL and stor into a pandas dataframe"
      ]
    },
    {
      "cell_type": "code",
      "metadata": {
        "id": "are8WRKBL0jJ",
        "outputId": "1cdf5333-c586-4c78-c797-a80e1adce912",
        "colab": {
          "base_uri": "https://localhost:8080/"
        }
      },
      "source": [
        "import pandas as pd\n",
        "\n",
        "url = \"http://winterolympicsmedals.com/medals.csv\"\n",
        "df = pd.read_csv(url)\n",
        "\n",
        "print(df.head())"
      ],
      "execution_count": 119,
      "outputs": [
        {
          "output_type": "stream",
          "name": "stdout",
          "text": [
            "   Year      City       Sport  ...       Event Event gender   Medal\n",
            "0  1924  Chamonix     Skating  ...  individual            M  Silver\n",
            "1  1924  Chamonix     Skating  ...  individual            W    Gold\n",
            "2  1924  Chamonix     Skating  ...       pairs            X    Gold\n",
            "3  1924  Chamonix   Bobsleigh  ...    four-man            M  Bronze\n",
            "4  1924  Chamonix  Ice Hockey  ...  ice hockey            M    Gold\n",
            "\n",
            "[5 rows x 8 columns]\n"
          ]
        }
      ]
    },
    {
      "cell_type": "markdown",
      "metadata": {
        "id": "HVW1OkO5NU47"
      },
      "source": [
        "Lets save the dataframe as a CSV file\n"
      ]
    },
    {
      "cell_type": "code",
      "metadata": {
        "id": "2dSLYtYRNfUJ"
      },
      "source": [
        "import pandas as pd\n",
        "url = \"http://winterolympicsmedals.com/medals.csv\"\n",
        "df = pd.read_csv(url)\n",
        "\n",
        "# Simulate processing the data, lets extract the first 5 rows\n",
        "small_df = df.head()\n",
        "\n",
        "# output results\n",
        "small_df.to_csv(\"medals.csv\")"
      ],
      "execution_count": 124,
      "outputs": []
    },
    {
      "cell_type": "markdown",
      "metadata": {
        "id": "j4aIxP6HOSHH"
      },
      "source": [
        "A CSV file is a text file, lets use our code above to inspect the meadles.csv file"
      ]
    },
    {
      "cell_type": "code",
      "metadata": {
        "id": "4DV1HQiOOcBJ",
        "outputId": "01eb2ddd-a9fc-477b-fd96-51127dac7ded",
        "colab": {
          "base_uri": "https://localhost:8080/"
        }
      },
      "source": [
        "with open(\"medals.csv\", \"r\") as my_file:\n",
        "  print(my_file.read())"
      ],
      "execution_count": 121,
      "outputs": [
        {
          "output_type": "stream",
          "name": "stdout",
          "text": [
            ",Year,City,Sport,Discipline,NOC,Event,Event gender,Medal\n",
            "0,1924,Chamonix,Skating,Figure skating,AUT,individual,M,Silver\n",
            "1,1924,Chamonix,Skating,Figure skating,AUT,individual,W,Gold\n",
            "2,1924,Chamonix,Skating,Figure skating,AUT,pairs,X,Gold\n",
            "3,1924,Chamonix,Bobsleigh,Bobsleigh,BEL,four-man,M,Bronze\n",
            "4,1924,Chamonix,Ice Hockey,Ice Hockey,CAN,ice hockey,M,Gold\n",
            "\n"
          ]
        }
      ]
    },
    {
      "cell_type": "markdown",
      "metadata": {
        "id": "chXJfWRkO4MZ"
      },
      "source": [
        "Lets save this as a SQL database\n"
      ]
    },
    {
      "cell_type": "code",
      "metadata": {
        "id": "jqJtPVuCPAM5",
        "outputId": "f3627e15-1a29-429c-e30e-2642c10214e2",
        "colab": {
          "base_uri": "https://localhost:8080/"
        }
      },
      "source": [
        "import pandas as pd\n",
        "import sqlite3\n",
        "\n",
        "# read in the data source\n",
        "df = pd.read_csv(\"http://winterolympicsmedals.com/medals.csv\")\n",
        "\n",
        "# process the data - extract the first 5 rows\n",
        "small_df = df.head()\n",
        "\n",
        "# save reults to a SQL database\n",
        "\n",
        "# connect to the database\n",
        "conn = sqlite3.connect('my_database.sqlite')\n",
        "\n",
        "# save dataframe as a table in the databse\n",
        "small_df.to_sql('medal_table', conn, if_exists='replace', index=False)"
      ],
      "execution_count": 122,
      "outputs": [
        {
          "output_type": "stream",
          "name": "stderr",
          "text": [
            "/usr/local/lib/python3.7/dist-packages/pandas/core/generic.py:2615: UserWarning: The spaces in these column names will not be changed. In pandas versions < 0.14, spaces were converted to underscores.\n",
            "  method=method,\n"
          ]
        }
      ]
    },
    {
      "cell_type": "markdown",
      "metadata": {
        "id": "X5dBLMHMQrf2"
      },
      "source": [
        "Lets check the SQLite database"
      ]
    },
    {
      "cell_type": "code",
      "metadata": {
        "id": "QmaVyxKbQqJk",
        "outputId": "3d484523-d05a-459f-f1a0-aacd75b8a9cc",
        "colab": {
          "base_uri": "https://localhost:8080/",
          "height": 204
        }
      },
      "source": [
        "import pandas as pd\n",
        "import sqlite3\n",
        "\n",
        "# connect to the database\n",
        "conn = sqlite3.connect('my_database.sqlite')\n",
        "query = \"SELECT * FROM medal_table\"\n",
        "df = pd.read_sql(query,conn)\n",
        "df"
      ],
      "execution_count": 125,
      "outputs": [
        {
          "output_type": "execute_result",
          "data": {
            "text/html": [
              "<div>\n",
              "<style scoped>\n",
              "    .dataframe tbody tr th:only-of-type {\n",
              "        vertical-align: middle;\n",
              "    }\n",
              "\n",
              "    .dataframe tbody tr th {\n",
              "        vertical-align: top;\n",
              "    }\n",
              "\n",
              "    .dataframe thead th {\n",
              "        text-align: right;\n",
              "    }\n",
              "</style>\n",
              "<table border=\"1\" class=\"dataframe\">\n",
              "  <thead>\n",
              "    <tr style=\"text-align: right;\">\n",
              "      <th></th>\n",
              "      <th>Year</th>\n",
              "      <th>City</th>\n",
              "      <th>Sport</th>\n",
              "      <th>Discipline</th>\n",
              "      <th>NOC</th>\n",
              "      <th>Event</th>\n",
              "      <th>Event gender</th>\n",
              "      <th>Medal</th>\n",
              "    </tr>\n",
              "  </thead>\n",
              "  <tbody>\n",
              "    <tr>\n",
              "      <th>0</th>\n",
              "      <td>1924</td>\n",
              "      <td>Chamonix</td>\n",
              "      <td>Skating</td>\n",
              "      <td>Figure skating</td>\n",
              "      <td>AUT</td>\n",
              "      <td>individual</td>\n",
              "      <td>M</td>\n",
              "      <td>Silver</td>\n",
              "    </tr>\n",
              "    <tr>\n",
              "      <th>1</th>\n",
              "      <td>1924</td>\n",
              "      <td>Chamonix</td>\n",
              "      <td>Skating</td>\n",
              "      <td>Figure skating</td>\n",
              "      <td>AUT</td>\n",
              "      <td>individual</td>\n",
              "      <td>W</td>\n",
              "      <td>Gold</td>\n",
              "    </tr>\n",
              "    <tr>\n",
              "      <th>2</th>\n",
              "      <td>1924</td>\n",
              "      <td>Chamonix</td>\n",
              "      <td>Skating</td>\n",
              "      <td>Figure skating</td>\n",
              "      <td>AUT</td>\n",
              "      <td>pairs</td>\n",
              "      <td>X</td>\n",
              "      <td>Gold</td>\n",
              "    </tr>\n",
              "    <tr>\n",
              "      <th>3</th>\n",
              "      <td>1924</td>\n",
              "      <td>Chamonix</td>\n",
              "      <td>Bobsleigh</td>\n",
              "      <td>Bobsleigh</td>\n",
              "      <td>BEL</td>\n",
              "      <td>four-man</td>\n",
              "      <td>M</td>\n",
              "      <td>Bronze</td>\n",
              "    </tr>\n",
              "    <tr>\n",
              "      <th>4</th>\n",
              "      <td>1924</td>\n",
              "      <td>Chamonix</td>\n",
              "      <td>Ice Hockey</td>\n",
              "      <td>Ice Hockey</td>\n",
              "      <td>CAN</td>\n",
              "      <td>ice hockey</td>\n",
              "      <td>M</td>\n",
              "      <td>Gold</td>\n",
              "    </tr>\n",
              "  </tbody>\n",
              "</table>\n",
              "</div>"
            ],
            "text/plain": [
              "   Year      City       Sport  ...       Event Event gender   Medal\n",
              "0  1924  Chamonix     Skating  ...  individual            M  Silver\n",
              "1  1924  Chamonix     Skating  ...  individual            W    Gold\n",
              "2  1924  Chamonix     Skating  ...       pairs            X    Gold\n",
              "3  1924  Chamonix   Bobsleigh  ...    four-man            M  Bronze\n",
              "4  1924  Chamonix  Ice Hockey  ...  ice hockey            M    Gold\n",
              "\n",
              "[5 rows x 8 columns]"
            ]
          },
          "metadata": {},
          "execution_count": 125
        }
      ]
    },
    {
      "cell_type": "markdown",
      "metadata": {
        "id": "K_EJ50IXs3vk"
      },
      "source": [
        "# Mannaging Code\n",
        "\n",
        "* Open a Jupyter Notebook\n",
        "* Rename a Jupyter Notebook\n",
        "* Write Python code in a Jupyter notebook code cells\n",
        "* Run Python code in a Jupyter notebook code cell\n",
        "* Write the text in Jupyter notebook markdown cells\n",
        "* Use markdown syntax to produce formatted text, headings, lists\n",
        "* Save/Download a Jupyter notebook\n",
        "* Integrate notebooks with GitHub"
      ]
    },
    {
      "cell_type": "markdown",
      "metadata": {
        "id": "1Bqa4L0ss74k"
      },
      "source": [
        "# Packages for Using the Web\n",
        "\n",
        "### Scraping\n",
        "* Beautiful Soup\n",
        "* Requests\n",
        "* Selenium\n",
        "* URLib, URLlib2\n",
        "* Scrapy\n",
        "\n",
        "### Creating\n",
        "* Flask\n",
        "* Django\n",
        "* Bottle"
      ]
    },
    {
      "cell_type": "markdown",
      "metadata": {
        "id": "43DFOv3ys-v-"
      },
      "source": [
        "# Packages for SQL Databases\n",
        "\n",
        "* SQLite3\n",
        "* MySQL\n",
        "* PostgresSQL\n",
        "* SQLalchemy"
      ]
    },
    {
      "cell_type": "markdown",
      "metadata": {
        "id": "DJfZeZSMtAiM"
      },
      "source": [
        "# Packages for Visualisation\n",
        "\n",
        "The graphical depiction of information and data is known as data visualisation. Data visualisation tools make it easy to examine and comprehend trends, outliers, and patterns in data by employing visual elements like charts, graphs, and maps.\n",
        "\n",
        "* Matplotlib\n",
        "* Pandas\n",
        "* seaborn\n",
        "* ggplot\n",
        "* Plotly\n",
        "* Bokeh"
      ]
    },
    {
      "cell_type": "markdown",
      "metadata": {
        "id": "cXcmLe4xtCnr"
      },
      "source": [
        "# Packages for User Interfaces\n",
        "\n",
        "A graphical user interface, or GUI, is an interactive environment that collects user responses to various circumstances such as forms, documents, tests, etc. It delivers a more interactive screen to the user than a typical Command Line Interface (CLI).\n",
        "\n",
        "### In Notebooks\n",
        "* ipywdgets\n",
        "* Panel\n",
        "* Dash\n",
        "* Volia\n",
        "* Anvil\n",
        "\n",
        "\n",
        "### Local Scripts\n",
        "* PyQT5\n",
        "* Tkinter\n",
        "* Kivy\n",
        "* wxPytohn\n",
        "* PySimpleGUI\n",
        "\n",
        "\n"
      ]
    },
    {
      "cell_type": "code",
      "metadata": {
        "id": "ihTq7ArXUMsl"
      },
      "source": [
        "bye"
      ],
      "execution_count": null,
      "outputs": []
    }
  ]
}